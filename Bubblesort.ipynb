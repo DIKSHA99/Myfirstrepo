{
  "nbformat": 4,
  "nbformat_minor": 0,
  "metadata": {
    "colab": {
      "name": "Bubblesort.ipynb",
      "provenance": [],
      "collapsed_sections": []
    },
    "kernelspec": {
      "name": "python3",
      "display_name": "Python 3"
    },
    "language_info": {
      "name": "python"
    }
  },
  "cells": [
    {
      "cell_type": "code",
      "execution_count": 1,
      "metadata": {
        "id": "dOU-VRp6s8VY"
      },
      "outputs": [],
      "source": [
        "class Bubblesort(object):\n",
        "  def __init__(self,Seq):\n",
        "    self.Seq=Seq\n",
        "  \n",
        "  def sort(self,Seq):\n",
        "    size=len(Seq)\n",
        "    for i in range(size-1):\n",
        "      for j in range(size-1):\n",
        "        if Seq[j]>Seq[j+1]:\n",
        "          temp=Seq[j]\n",
        "          Seq[j]=Seq[j+1]\n",
        "          Seq[j+1]=temp\n",
        "        \n",
        "  def displaying(self):\n",
        "    print(\"The arranged order of the sequence:\",self.Seq)  "
      ]
    },
    {
      "cell_type": "code",
      "source": [
        "#taking user input\n",
        "Seq=[]\n",
        "size=int(input(\"ENTER THE SIZE OF THE SEQUENCE: \"))\n",
        "for i in range (0,size):\n",
        "  print(\"ENTER THE NUMBERS OF THE SEQUENCE:\", i)\n",
        "  item= int(input(i))\n",
        "  Seq.append(item)"
      ],
      "metadata": {
        "colab": {
          "base_uri": "https://localhost:8080/"
        },
        "id": "BKB41VLts_a5",
        "outputId": "2a09dd39-0b30-4a91-a088-7c0e9f9cb730"
      },
      "execution_count": 11,
      "outputs": [
        {
          "name": "stdout",
          "output_type": "stream",
          "text": [
            "ENTER THE SIZE OF THE SEQUENCE: 5\n",
            "ENTER THE NUMBERS OF THE SEQUENCE: 0\n",
            "2\n",
            "ENTER THE NUMBERS OF THE SEQUENCE: 1\n",
            "18\n",
            "ENTER THE NUMBERS OF THE SEQUENCE: 2\n",
            "29\n",
            "ENTER THE NUMBERS OF THE SEQUENCE: 3\n",
            "35\n",
            "ENTER THE NUMBERS OF THE SEQUENCE: 4\n",
            "41\n"
          ]
        }
      ]
    },
    {
      "cell_type": "code",
      "source": [
        "obj=Bubblesort(Seq)   # creating instance of Seq class\n",
        "obj.sort(Seq)         #calling its methods\n",
        "obj.displaying()"
      ],
      "metadata": {
        "colab": {
          "base_uri": "https://localhost:8080/"
        },
        "id": "mMhoaVm6tFJM",
        "outputId": "d1e3c868-903d-4891-db57-8d685eee5d06"
      },
      "execution_count": 12,
      "outputs": [
        {
          "output_type": "stream",
          "name": "stdout",
          "text": [
            "The arranged order of the sequence: [1, 2, 5, 8, 9]\n"
          ]
        }
      ]
    }
  ]
}