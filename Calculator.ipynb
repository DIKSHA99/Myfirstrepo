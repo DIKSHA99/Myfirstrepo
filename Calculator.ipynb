{
  "nbformat": 4,
  "nbformat_minor": 0,
  "metadata": {
    "colab": {
      "name": "Calculator.ipynb",
      "provenance": [],
      "collapsed_sections": []
    },
    "kernelspec": {
      "name": "python3",
      "display_name": "Python 3"
    },
    "language_info": {
      "name": "python"
    }
  },
  "cells": [
    {
      "cell_type": "code",
      "execution_count": 4,
      "metadata": {
        "colab": {
          "base_uri": "https://localhost:8080/"
        },
        "id": "-Xe6YmBSu0DB",
        "outputId": "404b858e-7d29-4f66-cb81-e297ca821076"
      },
      "outputs": [
        {
          "output_type": "stream",
          "name": "stdout",
          "text": [
            "ENTER THE FIRST NUMBER:5\n",
            "ENTER THE SECOND NUMBER:4\n",
            "CHOOSE THE OPERATION NUMBER: 1. ADD,2. SUBSTRACT,3. DIVISION,4. MODULUS, 5. MULTIPLY5\n",
            "MULTIPLICATION\n"
          ]
        }
      ],
      "source": [
        "class Calculations(object):\n",
        "  \n",
        "  def add(a,b):\n",
        "    return a+b\n",
        "  def sub(a,b):\n",
        "    return a-b  \n",
        "  def div(a,b):\n",
        "    return a/b \n",
        "  def mod(a,b):\n",
        "    return a%b\n",
        "  def mul(a,b):\n",
        "    return a*b\n",
        "\n",
        "class Userinput(object):\n",
        "  a=int(input(\"ENTER THE FIRST NUMBER:\"))\n",
        "  b=int(input(\"ENTER THE SECOND NUMBER:\"))\n",
        "\n",
        "  def __init__(self,option,output,a,b):\n",
        "     self.option=option\n",
        "     self.output=output\n",
        "     self.a=a\n",
        "     self.b=b\n",
        "\n",
        "  option=int(input(\"CHOOSE THE OPERATION NUMBER: 1. ADD,2. SUBSTRACT,3. DIVISION,4. MODULUS, 5. MULTIPLY\"))\n",
        "  if option==1 :\n",
        "    output= Calculations.add(a,b)\n",
        "    print(\"ADDITION\")\n",
        "  if option==2 :\n",
        "    output=Calculations.sub(a,b)\n",
        "    print(\"SUBSTRACTION\")\n",
        "  if option==3 :\n",
        "    output=Calculations.div(a,b)\n",
        "    print(\"DIVISION\")\n",
        "  if option==4 :\n",
        "    output=Calculations.mod(a,b)\n",
        "    print(\"MODULUS\")\n",
        "  if option==5 :\n",
        "    output=Calculations.mul(a,b)\n",
        "    print(\"MULTIPLICATION\")\n",
        "      \n",
        "  #print(\"OUTPUT OF THE OPERATION:\", output)\n",
        "  def displaying(self):\n",
        "    print(\"OUTPUT OF THE OPERATION:\",self.output)\n",
        "  "
      ]
    },
    {
      "cell_type": "code",
      "source": [
        "obj=Userinput(Userinput.option,Userinput.output,Userinput.a,Userinput.b) \n",
        "obj.displaying()"
      ],
      "metadata": {
        "colab": {
          "base_uri": "https://localhost:8080/"
        },
        "id": "fICx-8s3u53U",
        "outputId": "e28b9205-7caf-4e9f-c78b-04dc17a276f1"
      },
      "execution_count": 5,
      "outputs": [
        {
          "output_type": "stream",
          "name": "stdout",
          "text": [
            "OUTPUT OF THE OPERATION: 20\n"
          ]
        }
      ]
    }
  ]
}